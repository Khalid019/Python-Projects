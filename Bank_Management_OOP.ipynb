{
  "cells": [
    {
      "cell_type": "markdown",
      "metadata": {
        "id": "view-in-github",
        "colab_type": "text"
      },
      "source": [
        "<a href=\"https://colab.research.google.com/github/Khalid019/Python-Projects/blob/main/Bank_Management_OOP.ipynb\" target=\"_parent\"><img src=\"https://colab.research.google.com/assets/colab-badge.svg\" alt=\"Open In Colab\"/></a>"
      ]
    },
    {
      "cell_type": "code",
      "execution_count": 27,
      "metadata": {
        "colab": {
          "base_uri": "https://localhost:8080/"
        },
        "id": "lrkll-SebAyr",
        "outputId": "6c4be289-2448-4bbb-c24c-216f56f86c16"
      },
      "outputs": [
        {
          "output_type": "stream",
          "name": "stdout",
          "text": [
            "Account balance has been updated: $ 200\n",
            "Account balance has been updated: $ 500\n",
            "Account balance has been updated: $ 100\n"
          ]
        }
      ],
      "source": [
        "#######----------Bank Management System using Python OOP -----------------######\n",
        "######----------Prepared by Khalid Hossen ------------------------------#######\n",
        "#Parent Class\n",
        "\n",
        "class customer():\n",
        "  def __init__(self, name, gender, age, mobileNumber):\n",
        "    self.name = name\n",
        "    self.gender = gender\n",
        "    self.age = age\n",
        "    self.mobileNumber = mobileNumber\n",
        "\n",
        "  def show_customer_details(self):\n",
        "    print(\"Customers personal details\\n\")\n",
        "    print(\"Customer Name: \", self.name)\n",
        "    print(\"Customer Name: \", self.gender)\n",
        "    print(\"Customer Name: \", self.age)\n",
        "    print(\"Customer Name: \", self.mobileNumber)\n",
        "\n",
        "#Chaild Class\n",
        "class Bank_Management(customer):\n",
        "  def __init__(self, name, gender, age, mobileNumber):\n",
        "    super().__init__(name, gender, age, mobileNumber)\n",
        "    self.balance = 0\n",
        "\n",
        "  def deposit(self, amount):\n",
        "    self.amount = amount\n",
        "    self.balance += amount\n",
        "    print(\"Account balance has been updated: $\", self.balance)  \n",
        "\n",
        "  def withdraw(self, amount):\n",
        "    self.amount = amount\n",
        "    if self.amount > self.balance:\n",
        "      print(\"You have insufficient balance. You current balance is: $\", self.balance)\n",
        "    else:  \n",
        "      self.balance -= amount\n",
        "      print(\"Account balance has been updated: $\", self.balance) \n",
        "\n",
        "  def view_balance(self):\n",
        "     self.show_customer_details()\n",
        "     print(\"Your current balance is:, $\", self.balance)     \n",
        "    \n",
        "\n",
        "#Creating object\n",
        "check = Bank_Management('Khalid', 'Male', '35', '01308227872')\n",
        "check.deposit(200)\n",
        "check.deposit(300)\n",
        "\n",
        "check.withdraw(400)"
      ]
    },
    {
      "cell_type": "code",
      "source": [
        "#Check final balance\n",
        "check.view_balance()"
      ],
      "metadata": {
        "colab": {
          "base_uri": "https://localhost:8080/"
        },
        "id": "QtxWwsemkGnN",
        "outputId": "96e7f9c5-a9ea-4582-86cc-5b47ecf4ba7a"
      },
      "execution_count": 28,
      "outputs": [
        {
          "output_type": "stream",
          "name": "stdout",
          "text": [
            "Customers personal details\n",
            "\n",
            "Customer Name:  Khalid\n",
            "Customer Name:  Male\n",
            "Customer Name:  35\n",
            "Customer Name:  01308227872\n",
            "Your current balance is:, $ 100\n"
          ]
        }
      ]
    }
  ],
  "metadata": {
    "colab": {
      "provenance": [],
      "authorship_tag": "ABX9TyN7Sp1sh8KZOlkeCnFHS32b",
      "include_colab_link": true
    },
    "kernelspec": {
      "display_name": "Python 3",
      "name": "python3"
    },
    "language_info": {
      "name": "python"
    }
  },
  "nbformat": 4,
  "nbformat_minor": 0
}